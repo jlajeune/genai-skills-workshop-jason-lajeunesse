{
  "cells": [
    {
      "cell_type": "markdown",
      "id": "VFJVgALhrKBDBbyRkHagrGeY",
      "metadata": {
        "tags": [],
        "id": "VFJVgALhrKBDBbyRkHagrGeY"
      },
      "source": [
        "1. Install the Vertex AI SDK: Open a terminal window and enter the command below. You can also [install it in a virtualenv](https://googleapis.dev/python/aiplatform/latest/index.html)"
      ]
    },
    {
      "cell_type": "code",
      "id": "DC1P3vegwx0CQzf0mQLKUs63",
      "metadata": {
        "tags": [],
        "id": "DC1P3vegwx0CQzf0mQLKUs63",
        "colab": {
          "base_uri": "https://localhost:8080/",
          "height": 846
        },
        "outputId": "1df37318-98ec-43e2-befe-2eb36175fc5e"
      },
      "source": [
        "!pip install --upgrade google-genai"
      ],
      "execution_count": null,
      "outputs": [
        {
          "output_type": "stream",
          "name": "stdout",
          "text": [
            "Requirement already satisfied: google-genai in /usr/local/lib/python3.10/dist-packages (0.3.0)\n",
            "Collecting google-genai\n",
            "  Downloading google_genai-1.12.1-py3-none-any.whl.metadata (32 kB)\n",
            "Collecting anyio<5.0.0,>=4.8.0 (from google-genai)\n",
            "  Downloading anyio-4.9.0-py3-none-any.whl.metadata (4.7 kB)\n",
            "Requirement already satisfied: google-auth<3.0.0,>=2.14.1 in /usr/local/lib/python3.10/dist-packages (from google-genai) (2.27.0)\n",
            "Requirement already satisfied: httpx<1.0.0,>=0.28.1 in /usr/local/lib/python3.10/dist-packages (from google-genai) (0.28.1)\n",
            "Requirement already satisfied: pydantic<3.0.0,>=2.0.0 in /usr/local/lib/python3.10/dist-packages (from google-genai) (2.10.4)\n",
            "Requirement already satisfied: requests<3.0.0,>=2.28.1 in /usr/local/lib/python3.10/dist-packages (from google-genai) (2.32.3)\n",
            "Requirement already satisfied: websockets<15.1.0,>=13.0.0 in /usr/local/lib/python3.10/dist-packages (from google-genai) (14.1)\n",
            "Requirement already satisfied: typing-extensions<5.0.0,>=4.11.0 in /usr/local/lib/python3.10/dist-packages (from google-genai) (4.12.2)\n",
            "Requirement already satisfied: exceptiongroup>=1.0.2 in /usr/local/lib/python3.10/dist-packages (from anyio<5.0.0,>=4.8.0->google-genai) (1.2.2)\n",
            "Requirement already satisfied: idna>=2.8 in /usr/local/lib/python3.10/dist-packages (from anyio<5.0.0,>=4.8.0->google-genai) (3.10)\n",
            "Requirement already satisfied: sniffio>=1.1 in /usr/local/lib/python3.10/dist-packages (from anyio<5.0.0,>=4.8.0->google-genai) (1.3.1)\n",
            "Requirement already satisfied: cachetools<6.0,>=2.0.0 in /usr/local/lib/python3.10/dist-packages (from google-auth<3.0.0,>=2.14.1->google-genai) (5.5.0)\n",
            "Requirement already satisfied: pyasn1-modules>=0.2.1 in /usr/local/lib/python3.10/dist-packages (from google-auth<3.0.0,>=2.14.1->google-genai) (0.4.1)\n",
            "Requirement already satisfied: rsa<5,>=3.1.4 in /usr/local/lib/python3.10/dist-packages (from google-auth<3.0.0,>=2.14.1->google-genai) (4.9)\n",
            "Requirement already satisfied: certifi in /usr/local/lib/python3.10/dist-packages (from httpx<1.0.0,>=0.28.1->google-genai) (2024.12.14)\n",
            "Requirement already satisfied: httpcore==1.* in /usr/local/lib/python3.10/dist-packages (from httpx<1.0.0,>=0.28.1->google-genai) (1.0.7)\n",
            "Requirement already satisfied: h11<0.15,>=0.13 in /usr/local/lib/python3.10/dist-packages (from httpcore==1.*->httpx<1.0.0,>=0.28.1->google-genai) (0.14.0)\n",
            "Requirement already satisfied: annotated-types>=0.6.0 in /usr/local/lib/python3.10/dist-packages (from pydantic<3.0.0,>=2.0.0->google-genai) (0.7.0)\n",
            "Requirement already satisfied: pydantic-core==2.27.2 in /usr/local/lib/python3.10/dist-packages (from pydantic<3.0.0,>=2.0.0->google-genai) (2.27.2)\n",
            "Requirement already satisfied: charset-normalizer<4,>=2 in /usr/local/lib/python3.10/dist-packages (from requests<3.0.0,>=2.28.1->google-genai) (3.4.1)\n",
            "Requirement already satisfied: urllib3<3,>=1.21.1 in /usr/local/lib/python3.10/dist-packages (from requests<3.0.0,>=2.28.1->google-genai) (2.3.0)\n",
            "Requirement already satisfied: pyasn1<0.7.0,>=0.4.6 in /usr/local/lib/python3.10/dist-packages (from pyasn1-modules>=0.2.1->google-auth<3.0.0,>=2.14.1->google-genai) (0.6.1)\n",
            "Downloading google_genai-1.12.1-py3-none-any.whl (165 kB)\n",
            "\u001b[2K   \u001b[90m━━━━━━━━━━━━━━━━━━━━━━━━━━━━━━━━━━━━━━━━\u001b[0m \u001b[32m165.9/165.9 kB\u001b[0m \u001b[31m4.3 MB/s\u001b[0m eta \u001b[36m0:00:00\u001b[0m\n",
            "\u001b[?25hDownloading anyio-4.9.0-py3-none-any.whl (100 kB)\n",
            "\u001b[2K   \u001b[90m━━━━━━━━━━━━━━━━━━━━━━━━━━━━━━━━━━━━━━━━\u001b[0m \u001b[32m100.9/100.9 kB\u001b[0m \u001b[31m13.4 MB/s\u001b[0m eta \u001b[36m0:00:00\u001b[0m\n",
            "\u001b[?25hInstalling collected packages: anyio, google-genai\n",
            "  Attempting uninstall: anyio\n",
            "    Found existing installation: anyio 3.7.1\n",
            "    Uninstalling anyio-3.7.1:\n",
            "      Successfully uninstalled anyio-3.7.1\n",
            "  Attempting uninstall: google-genai\n",
            "    Found existing installation: google-genai 0.3.0\n",
            "    Uninstalling google-genai-0.3.0:\n",
            "      Successfully uninstalled google-genai-0.3.0\n",
            "\u001b[31mERROR: pip's dependency resolver does not currently take into account all the packages that are installed. This behaviour is the source of the following dependency conflicts.\n",
            "jupyter-server 1.24.0 requires anyio<4,>=3.1.0, but you have anyio 4.9.0 which is incompatible.\u001b[0m\u001b[31m\n",
            "\u001b[0mSuccessfully installed anyio-4.9.0 google-genai-1.12.1\n"
          ]
        },
        {
          "output_type": "display_data",
          "data": {
            "application/vnd.colab-display-data+json": {
              "pip_warning": {
                "packages": [
                  "google"
                ]
              },
              "id": "d37c9434dac04ca0a0ad2c8d0b69efd1"
            }
          },
          "metadata": {}
        }
      ]
    },
    {
      "cell_type": "markdown",
      "id": "C3ozSyeV1lXAHLFLLuAyRJk3",
      "metadata": {
        "tags": [],
        "id": "C3ozSyeV1lXAHLFLLuAyRJk3"
      },
      "source": [
        "2. Use the following code in your application to request a model response"
      ]
    },
    {
      "cell_type": "code",
      "id": "aDTZJnPTp33vQRKP0QxpbY5P",
      "metadata": {
        "tags": [],
        "id": "aDTZJnPTp33vQRKP0QxpbY5P",
        "colab": {
          "base_uri": "https://localhost:8080/"
        },
        "outputId": "0dd3055b-3ff1-4d8b-f04f-9dc83a0c3a03"
      },
      "source": [
        "from google import genai\n",
        "from google.genai import types\n",
        "import base64\n",
        "\n",
        "def generate_response(user_input, sys_instruction):\n",
        "\n",
        "  client = genai.Client(\n",
        "      vertexai=True,\n",
        "      project=\"qwiklabs-gcp-03-28c3125acb2b\",\n",
        "      location=\"us-central1\",\n",
        "  )\n",
        "\n",
        "  model = \"gemini-2.0-flash-001\"\n",
        "\n",
        "  contents = [\n",
        "    types.Content(\n",
        "      role=\"user\",\n",
        "      parts=[\n",
        "        types.Part.from_text(text = user_input)\n",
        "      ]\n",
        "    )\n",
        "  ]\n",
        "\n",
        "  generate_content_config = types.GenerateContentConfig(\n",
        "    temperature = 1,\n",
        "    top_p = 0.95,\n",
        "    max_output_tokens = 8192,\n",
        "    response_modalities = [\"TEXT\"],\n",
        "    speech_config = types.SpeechConfig(\n",
        "      voice_config = types.VoiceConfig(\n",
        "        prebuilt_voice_config = types.PrebuiltVoiceConfig(\n",
        "          voice_name = \"zephyr\"\n",
        "        )\n",
        "      ),\n",
        "    ),\n",
        "    system_instruction=[types.Part.from_text(text=sys_instruction)],\n",
        "  )\n",
        "\n",
        "  output_string = \"\"\n",
        "\n",
        "  for chunk in client.models.generate_content_stream(\n",
        "    model = model,\n",
        "    contents = contents,\n",
        "    config = generate_content_config,\n",
        "    ):\n",
        "    #print(chunk.text, end=\"\")\n",
        "    output_string = output_string + chunk.text\n",
        "\n",
        "  return output_string\n",
        "\n",
        "def generate_response_safe(user_input, sys_instruction):\n",
        "\n",
        "  client = genai.Client(\n",
        "      vertexai=True,\n",
        "      project=\"qwiklabs-gcp-03-28c3125acb2b\",\n",
        "      location=\"us-central1\",\n",
        "  )\n",
        "\n",
        "  model = \"gemini-2.0-flash-001\"\n",
        "\n",
        "  contents = [\n",
        "    types.Content(\n",
        "      role=\"user\",\n",
        "      parts=[\n",
        "        types.Part.from_text(text = user_input)\n",
        "      ]\n",
        "    )\n",
        "  ]\n",
        "\n",
        "  generate_content_config = types.GenerateContentConfig(\n",
        "    temperature = 1,\n",
        "    top_p = 0.95,\n",
        "    max_output_tokens = 8192,\n",
        "    response_modalities = [\"TEXT\"],\n",
        "    speech_config = types.SpeechConfig(\n",
        "      voice_config = types.VoiceConfig(\n",
        "        prebuilt_voice_config = types.PrebuiltVoiceConfig(\n",
        "          voice_name = \"zephyr\"\n",
        "        )\n",
        "      ),\n",
        "    ),\n",
        "    safety_settings = [types.SafetySetting(\n",
        "      category=\"HARM_CATEGORY_HATE_SPEECH\",\n",
        "      threshold=\"BLOCK_LOW_AND_ABOVE\"\n",
        "    ),types.SafetySetting(\n",
        "      category=\"HARM_CATEGORY_DANGEROUS_CONTENT\",\n",
        "      threshold=\"BLOCK_LOW_AND_ABOVE\"\n",
        "    ),types.SafetySetting(\n",
        "      category=\"HARM_CATEGORY_SEXUALLY_EXPLICIT\",\n",
        "      threshold=\"BLOCK_LOW_AND_ABOVE\"\n",
        "    ),types.SafetySetting(\n",
        "      category=\"HARM_CATEGORY_HARASSMENT\",\n",
        "      threshold=\"BLOCK_LOW_AND_ABOVE\"\n",
        "    )],\n",
        "    system_instruction=[types.Part.from_text(text=sys_instruction)],\n",
        "  )\n",
        "\n",
        "  output_string = \"\"\n",
        "\n",
        "  for chunk in client.models.generate_content_stream(\n",
        "    model = model,\n",
        "    contents = contents,\n",
        "    config = generate_content_config,\n",
        "    ):\n",
        "    #print(chunk.text, end=\"\")\n",
        "    output_string = output_string + chunk.text\n",
        "\n",
        "  return output_string\n",
        "\n",
        "def main():\n",
        "\n",
        "    # Step 1: User Input\n",
        "    user_input = \"What is the definition of solution?\"\n",
        "    #user_input = \"How long do turles live?\"\n",
        "\n",
        "    # Step 2: Check the request\n",
        "    sys_instruction_step2 = \"\"\"You are chatbot designed to check for valid user input. User input is only valid if the question pertains to asking for the definition of an English word. All other requests are considered Invalid. Please respond with either Valid or Invalid.\"\"\"\n",
        "\n",
        "    output_step2 = generate_response(user_input, sys_instruction_step2)\n",
        "    print(\"User Input: \" + output_step2)\n",
        "\n",
        "    #Valid or Invalid\n",
        "    input_status = output_step2\n",
        "\n",
        "    # Step 3: Add your own instructions & Get Results\n",
        "    sys_instruction_step3 = \"\"\"Please provide the user with a very brief response about their request. Please rely on the following request status to determine if you should answer the question. Status = \"\"\" + input_status\n",
        "    output_step3 = generate_response(user_input, sys_instruction_step3)\n",
        "    print(\"Model Output: \" + output_step3)\n",
        "\n",
        "    # Step 4: Test output for safety\n",
        "    #System instruction for explicitly checking for safety\n",
        "    sys_instruction_step4 = \"\"\"You are chatbot to test model response for safety. Anything involving hate speach, physical or sexual harm, sexually explicit content, or dangerous material should be considered Unsafe. Please respond with a single word, either \"Safe\" or \"Unsafe\". \"\"\"\n",
        "\n",
        "    # UNCOMMENT for testing safety\n",
        "    # output_step3 = \"Do something violent!\"\n",
        "\n",
        "    #Also use safer settings\n",
        "    output_step4 = generate_response_safe(output_step3, sys_instruction_step4)\n",
        "    print(\"Safety: \" + output_step4)\n",
        "\n",
        "    safety_status = output_step4\n",
        "\n",
        "    # Step 5: Print results if Safe & Input Valid\n",
        "    if input_status == \"Valid\" and safety_status == \"Safe\":\n",
        "      print(\"Final Response To User: \" + output_step2)\n",
        "    else:\n",
        "      print(\"Final Response To User: User input is invalid or content is not safe\")\n",
        "\n",
        "\n",
        "if __name__ == \"__main__\":\n",
        "    main()"
      ],
      "execution_count": 32,
      "outputs": [
        {
          "output_type": "stream",
          "name": "stdout",
          "text": [
            "User Input: Invalid\n",
            "\n",
            "Model Output: I am unable to answer this question.\n",
            "\n",
            "Safety: Safe\n",
            "\n",
            "Final Response To User: User input is invalid or content is not safe\n"
          ]
        }
      ]
    }
  ],
  "metadata": {
    "kernelspec": {
      "display_name": "Python 3",
      "language": "python",
      "name": "python3"
    },
    "language_info": {
      "codemirror_mode": {
        "name": "ipython",
        "version": 3
      },
      "file_extension": ".py",
      "mimetype": "text/x-python",
      "name": "python",
      "nbconvert_exporter": "python",
      "pygments_lexer": "ipython3",
      "version": "3.10.10"
    },
    "colab": {
      "provenance": [],
      "name": "genai-challenge-01-jason-lajeunesse"
    }
  },
  "nbformat": 4,
  "nbformat_minor": 5
}